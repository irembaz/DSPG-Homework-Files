{
 "cells": [
  {
   "cell_type": "markdown",
   "metadata": {},
   "source": [
    "# Question 1"
   ]
  },
  {
   "cell_type": "code",
   "execution_count": 15,
   "metadata": {},
   "outputs": [
    {
     "data": {
      "text/plain": [
       "[[12, 11, 13, 14], [22, 21, 23, 24], [32, 31, 33, 34]]"
      ]
     },
     "execution_count": 15,
     "metadata": {},
     "output_type": "execute_result"
    }
   ],
   "source": [
    "m=[[11, 12, 13, 14], [21, 22, 23, 24], [31, 32, 33, 34]]\n",
    "a=m[0]\n",
    "a\n",
    "a[0]=12\n",
    "a[1]=11\n",
    "\n",
    "b=m[1]\n",
    "b[0]=22\n",
    "b[1]=21\n",
    "b\n",
    "\n",
    "c=m[2]\n",
    "c[0]=32\n",
    "c[1]=31\n",
    "c\n",
    "\n",
    "new_m=[a,b,c]\n",
    "new_m"
   ]
  },
  {
   "cell_type": "markdown",
   "metadata": {},
   "source": [
    "# Question 2"
   ]
  },
  {
   "cell_type": "markdown",
   "metadata": {},
   "source": [
    "Find the maximal element of the matrix M and print the row number and column number of the maximal element as a tuple.\n",
    "\n",
    "M = [[0, 3, 2, 4], [2, 7, 5, 9], [6, 1, 2, 3]]\n",
    "\n",
    "The output of the code should be row number and column number of the maximal element as a tuple. (1,3)"
   ]
  },
  {
   "cell_type": "code",
   "execution_count": 299,
   "metadata": {},
   "outputs": [
    {
     "name": "stdout",
     "output_type": "stream",
     "text": [
      "(1, 3)\n"
     ]
    },
    {
     "data": {
      "text/plain": [
       "tuple"
      ]
     },
     "execution_count": 299,
     "metadata": {},
     "output_type": "execute_result"
    }
   ],
   "source": [
    "for i,j in enumerate(m):\n",
    "    for k,l in enumerate(j):\n",
    "        if l == 9:\n",
    "            a=i,k\n",
    "            print(a)\n",
    "type(a)"
   ]
  },
  {
   "cell_type": "markdown",
   "metadata": {},
   "source": [
    "# Question 3"
   ]
  },
  {
   "cell_type": "markdown",
   "metadata": {},
   "source": [
    "Given two lists of numbers, count how many unique numbers occur in both of them.\n",
    "\n",
    "For example, on input\n",
    "\n",
    "list_1 = [5, 3, 3, 10, 40]\n",
    "\n",
    "list_2 = [40, 3, 40, 1, 2]\n",
    "\n",
    "output must be\n",
    "\n",
    "6"
   ]
  },
  {
   "cell_type": "code",
   "execution_count": 23,
   "metadata": {},
   "outputs": [
    {
     "data": {
      "text/plain": [
       "9"
      ]
     },
     "execution_count": 23,
     "metadata": {},
     "output_type": "execute_result"
    }
   ],
   "source": [
    "x=[1,2,4,6,23,12,4,4,4]\n",
    "y=[3,6,9,1,4,56,1,1,1]\n",
    "\n",
    "z=x+y\n",
    "new_z=list(set(z))\n",
    "new_z\n",
    "len(new_z)\n",
    "\n"
   ]
  },
  {
   "cell_type": "markdown",
   "metadata": {},
   "source": [
    "# Question 4"
   ]
  },
  {
   "cell_type": "markdown",
   "metadata": {},
   "source": [
    "We have a dictionary containing the math grades and the student number of 5 students. Calculate the mean of the grades and then prints out the name of the students who are above and below that average(and if any print that are equals to the mean as well):\n",
    "\n",
    "For example if the grades are\n",
    "\n",
    "Jane: 30\n",
    "\n",
    "Pat: 40\n",
    "\n",
    "Denis: 50\n",
    "\n",
    "Max: 60\n",
    "\n",
    "Lara: 70\n",
    "\n",
    "Then the mean is 50\n",
    "\n",
    "your program should print:\n",
    "\n",
    "*\"Grade(s) of Jane and Pat are below the average\"*\n",
    "\n",
    "*\"Grade(s) of Denis is equal to the mean\"*\n",
    "\n",
    "*\"Grade(s) of Max and Lara are above the average\"*\n",
    "\n"
   ]
  },
  {
   "cell_type": "code",
   "execution_count": 78,
   "metadata": {},
   "outputs": [
    {
     "ename": "SyntaxError",
     "evalue": "invalid syntax (<ipython-input-78-05c798071536>, line 20)",
     "output_type": "error",
     "traceback": [
      "\u001b[1;36m  File \u001b[1;32m\"<ipython-input-78-05c798071536>\"\u001b[1;36m, line \u001b[1;32m20\u001b[0m\n\u001b[1;33m    if [\"grade\"] > avg_grade\u001b[0m\n\u001b[1;37m                            ^\u001b[0m\n\u001b[1;31mSyntaxError\u001b[0m\u001b[1;31m:\u001b[0m invalid syntax\n"
     ]
    }
   ],
   "source": [
    "\"\"\"\n",
    "students = {\"Jane\":{\"grade\":90,\"student_number\":4012}, \n",
    "          \"Pat\":{\"grade\":81,\"student_number\":4052},\n",
    "          \"Denis\":{\"grade\":70,\"student_number\":4089},\n",
    "          \"Max\":{\"grade\":72,\"student_number\":4322},\n",
    "          \"Lara\":{\"grade\":74,\"student_number\":4042}}\n",
    "\n",
    "d=students[\"Jane\"][\"grade\"]\n",
    "e=students[\"Pat\"][\"grade\"]\n",
    "f=students[\"Denis\"][\"grade\"]\n",
    "g=students[\"Max\"][\"grade\"]\n",
    "h=students[\"Lara\"][\"grade\"]\n",
    "\n",
    "tot_grade=d+e+f+g+h\n",
    "avg_grade=tot_grade/len(students)\n",
    "\n",
    "a=(students.values())\n",
    "\n",
    "for k in students.values():\n",
    "    if [\"grade\"] > avg_grade\n",
    "        print(\"yess it is bigg\")\n",
    "        \n",
    "\"\"\"\"\n",
    "    \n",
    "\n"
   ]
  },
  {
   "cell_type": "code",
   "execution_count": 327,
   "metadata": {},
   "outputs": [
    {
     "name": "stdout",
     "output_type": "stream",
     "text": [
      "90\n",
      "81\n",
      "70\n",
      "72\n",
      "74\n",
      "Grade(s) of Jane and Pat are above the average\n",
      "Grade(s) of Denis and Max and Lara are below the average\n",
      "Grade(s) of  are equal the average\n"
     ]
    }
   ],
   "source": [
    "students = {\"Jane\":{\"grade\":90,\"student_number\":4012}, \n",
    "          \"Pat\":{\"grade\":81,\"student_number\":4052},\n",
    "          \"Denis\":{\"grade\":70,\"student_number\":4089},\n",
    "          \"Max\":{\"grade\":72,\"student_number\":4322},\n",
    "          \"Lara\":{\"grade\":74,\"student_number\":4042}}\n",
    "my_sum=0\n",
    "for person in students:\n",
    "    students[person][\"grade\"]\n",
    "    print(students[person][\"grade\"])\n",
    "    \n",
    "    \n",
    "my_avg=(sum(students[person][\"grade\"] for person in students))/len(students)\n",
    "\n",
    "\n",
    "eq_grades=[]\n",
    "upper_grades=[]\n",
    "lower_grades=[]\n",
    "\n",
    "for i in students:\n",
    "    if (students[i][\"grade\"]>my_avg):\n",
    "        upper_grades.append(i)\n",
    "    elif (students[i][\"grade\"]<my_avg):\n",
    "        lower_grades.append(i)\n",
    "    else:\n",
    "        eq_grades.append()\n",
    "\n",
    "\n",
    "    \n",
    "print(\"Grade(s) of\" , \" and \".join(upper_grades) ,\"are above the average\")\n",
    "print(\"Grade(s) of\" , \" and \".join(lower_grades) ,\"are below the average\")\n",
    "print(\"Grade(s) of\" , \" and \".join(eq_grades) ,\"are equal the average\")\n",
    "        \n"
   ]
  },
  {
   "cell_type": "markdown",
   "metadata": {},
   "source": [
    "#  Question 5"
   ]
  },
  {
   "cell_type": "code",
   "execution_count": null,
   "metadata": {},
   "outputs": [],
   "source": [
    "A theatre sells batches of 1 to 4 tickets per sale (if available). \n",
    "Initially there are 200 tickets. Write a Python program that repeatedly tells the user how many tickets are left, \n",
    "asks for how many tickets the user wants to buy, indicates minimum and maximum numbers to buy, and reads the user's input. \n",
    "This continues until all tickets have been sold. At the end, the program prints how many sales transactions have been performed.\n",
    "For example, we might have the following interaction:\n",
    "\n",
    "200 tickets remaining\n",
    "\n",
    "How many do you want to buy?\n",
    "\n",
    "Minimum 1, maximum 4\n",
    "\n",
    "3\n",
    "\n",
    "197 tickets remaining\n",
    "\n",
    "How many do you want to buy?\n",
    "\n",
    "Minimum 1, maximum 4\n",
    "\n",
    "4\n",
    "\n",
    "(...)\n",
    "\n",
    "2 tickets remaining\n",
    "\n",
    "How many do you want to buy?\n",
    "\n",
    "Minimum 1, maximum 2\n",
    "\n",
    "2\n",
    "\n",
    "86 sales transactions\n",
    "\n",
    "(You may assume that the user enters the data correctly, i.e., \n",
    " all values are integers between the current minimum and maximum numbers they may buy.)"
   ]
  },
  {
   "cell_type": "code",
   "execution_count": 1,
   "metadata": {},
   "outputs": [
    {
     "name": "stdout",
     "output_type": "stream",
     "text": [
      "How many tickets do you want to buy?  34\n",
      "166 tickets remaining\n",
      "How many tickets do you want to buy?  495\n",
      "sorry all the tickets are sold out\n"
     ]
    }
   ],
   "source": [
    "initial_tic=200\n",
    "remain_tic=initial_tic\n",
    "\n",
    "while (remain_tic>0):\n",
    "    demand=input(\"How many tickets do you want to buy?  \")\n",
    "    remain_tic=remain_tic-int(demand)\n",
    "    \n",
    "    if remain_tic <= 0: \n",
    "        print(\"sorry all the tickets are sold out\")\n",
    "        \n",
    "    else:\n",
    "        print(remain_tic, \"tickets remaining\")\n",
    "       \n",
    "    \n",
    "    \n",
    "        "
   ]
  }
 ],
 "metadata": {
  "kernelspec": {
   "display_name": "Python 3",
   "language": "python",
   "name": "python3"
  },
  "language_info": {
   "codemirror_mode": {
    "name": "ipython",
    "version": 3
   },
   "file_extension": ".py",
   "mimetype": "text/x-python",
   "name": "python",
   "nbconvert_exporter": "python",
   "pygments_lexer": "ipython3",
   "version": "3.6.5"
  }
 },
 "nbformat": 4,
 "nbformat_minor": 2
}
