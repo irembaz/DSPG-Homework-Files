{
  "nbformat": 4,
  "nbformat_minor": 0,
  "metadata": {
    "kernelspec": {
      "display_name": "Python 3",
      "language": "python",
      "name": "python3"
    },
    "language_info": {
      "codemirror_mode": {
        "name": "ipython",
        "version": 3
      },
      "file_extension": ".py",
      "mimetype": "text/x-python",
      "name": "python",
      "nbconvert_exporter": "python",
      "pygments_lexer": "ipython3",
      "version": "3.7.6"
    },
    "colab": {
      "name": "HW2.ipynb",
      "provenance": [],
      "collapsed_sections": []
    }
  },
  "cells": [
    {
      "cell_type": "markdown",
      "metadata": {
        "id": "-LpkVrkx3ZuP"
      },
      "source": [
        "## 1) Power(Iterative):\n",
        "\n",
        "Write a program that calculates n'th power of a given number iteratively"
      ]
    },
    {
      "cell_type": "code",
      "metadata": {
        "colab": {
          "base_uri": "https://localhost:8080/"
        },
        "id": "E8VwUk643ZuP",
        "outputId": "8babe7f8-c0ab-47bd-969c-7b4fa9bd8c03"
      },
      "source": [
        "def iter_power(x, n): # It sould return x^n, and yes you cannot use x**n for this problem -_-\n",
        "    x2=1\n",
        "    for i in range(n): \n",
        "        x2=x*x2\n",
        "    return x2\n",
        "iter_power(2,4)"
      ],
      "execution_count": 5,
      "outputs": [
        {
          "output_type": "execute_result",
          "data": {
            "text/plain": [
              "16"
            ]
          },
          "metadata": {
            "tags": []
          },
          "execution_count": 5
        }
      ]
    },
    {
      "cell_type": "markdown",
      "metadata": {
        "id": "DednMuGi3ZuQ"
      },
      "source": [
        "## 2) Power(Recursive):\n",
        "\n",
        "Write a program that calculates n'th power of a given number recursively"
      ]
    },
    {
      "cell_type": "code",
      "metadata": {
        "colab": {
          "base_uri": "https://localhost:8080/"
        },
        "id": "nIV_5Nfa3ZuQ",
        "outputId": "db2eb0a7-db70-461b-9afb-19ada774b060"
      },
      "source": [
        "def recur_power(x, n): \n",
        "    if (n != 0):\n",
        "        return (x * recur_power(x, n - 1))\n",
        "    else:\n",
        "        return 1\n",
        "recur_power(2, 4)"
      ],
      "execution_count": 12,
      "outputs": [
        {
          "output_type": "execute_result",
          "data": {
            "text/plain": [
              "16"
            ]
          },
          "metadata": {
            "tags": []
          },
          "execution_count": 12
        }
      ]
    },
    {
      "cell_type": "markdown",
      "metadata": {
        "id": "HeLns6Ze3ZuQ"
      },
      "source": [
        "### 3) Key with the maximum number of values:\n",
        "\n",
        "Given dictionary d, return a key that has a maximum value associated with it\n",
        "\n",
        "for example if d = {\"a\":[1,2,3], \"b\":[45,43,21,23], \"c\":[3,4,5]}\n",
        "\n",
        "it should return \"b\""
      ]
    },
    {
      "cell_type": "code",
      "metadata": {
        "colab": {
          "base_uri": "https://localhost:8080/",
          "height": 35
        },
        "id": "Xsenw-8A3ZuQ",
        "outputId": "8515cca9-beda-499b-9b7d-d14b30bc03a7"
      },
      "source": [
        "def max_key(d):\n",
        "    v=list(d.values())\n",
        "    k=list(d.keys())\n",
        "    vec=[]\n",
        "    for i in range(len(d)):\n",
        "        #print(max(v[i]))\n",
        "        vec.append(max(v[i]))\n",
        "     \n",
        "    return k[vec.index(max(vec))]\n",
        "\n",
        "d= {\"a\":[1,2,3222], \"b\":[45,43,21,23], \"c\":[3,4,555]}    \n",
        "max_key(d)"
      ],
      "execution_count": 39,
      "outputs": [
        {
          "output_type": "execute_result",
          "data": {
            "application/vnd.google.colaboratory.intrinsic+json": {
              "type": "string"
            },
            "text/plain": [
              "'a'"
            ]
          },
          "metadata": {
            "tags": []
          },
          "execution_count": 39
        }
      ]
    }
  ]
}