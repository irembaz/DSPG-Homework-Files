{
 "cells": [
  {
   "cell_type": "markdown",
   "metadata": {},
   "source": [
    "çooook özür diliyorum. Ödev mesajını şimdi gördüm arada kaynamış :///"
   ]
  },
  {
   "cell_type": "code",
   "execution_count": 11,
   "metadata": {},
   "outputs": [
    {
     "data": {
      "text/plain": [
       "4"
      ]
     },
     "execution_count": 11,
     "metadata": {},
     "output_type": "execute_result"
    }
   ],
   "source": [
    "function= [[\"a\",\"b\",\"e\",\"c\"],[\"c\",\"e\",\"f\"],[\"a\",\"c\",\"d\",\"z\",\"f\"],[\"a\",\"a\",\"b\",\"c\"]]\n",
    "\n"
   ]
  },
  {
   "cell_type": "code",
   "execution_count": 130,
   "metadata": {},
   "outputs": [],
   "source": [
    "def counter():\n",
    "    new_function=[]\n",
    "    for i in function:\n",
    "        new_function.extend(i)\n",
    "    print(new_function)\n",
    "        \n",
    "    unique = []\n",
    "    for i in new_function:\n",
    "        if i not in unique:\n",
    "            unique.append(i)\n",
    "    print(unique)\n",
    "    \n",
    "    count_element=[]\n",
    "    for a in unique:\n",
    "        #if unique(a)==new.function(a):\n",
    "        #print((a))\n",
    "        count_element.append(new_function.count((a)))\n",
    "    print(count_element)\n",
    "    l1=unique\n",
    "    l2=count_element\n",
    "    d1=zip(l1,l2)\n",
    "    print(dict(d1))\n",
    "    \n",
    "    \n",
    "    \n",
    "            \n",
    "\n",
    "        \n",
    "\n"
   ]
  },
  {
   "cell_type": "code",
   "execution_count": 100,
   "metadata": {},
   "outputs": [],
   "source": [
    "#count_list=[]\n",
    "    #for i in unique:\n",
    "     #   count_list.append(new_function.count(\"i\"))\n",
    "      #  print(count_list)"
   ]
  },
  {
   "cell_type": "code",
   "execution_count": 131,
   "metadata": {},
   "outputs": [
    {
     "name": "stdout",
     "output_type": "stream",
     "text": [
      "['a', 'b', 'e', 'c', 'c', 'e', 'f', 'a', 'c', 'd', 'z', 'f', 'a', 'a', 'b', 'c']\n",
      "['a', 'b', 'e', 'c', 'f', 'd', 'z']\n",
      "[4, 2, 2, 4, 2, 1, 1]\n",
      "{'a': 4, 'b': 2, 'e': 2, 'c': 4, 'f': 2, 'd': 1, 'z': 1}\n"
     ]
    }
   ],
   "source": [
    "counter()"
   ]
  },
  {
   "cell_type": "code",
   "execution_count": null,
   "metadata": {},
   "outputs": [],
   "source": []
  }
 ],
 "metadata": {
  "kernelspec": {
   "display_name": "Python 3",
   "language": "python",
   "name": "python3"
  },
  "language_info": {
   "codemirror_mode": {
    "name": "ipython",
    "version": 3
   },
   "file_extension": ".py",
   "mimetype": "text/x-python",
   "name": "python",
   "nbconvert_exporter": "python",
   "pygments_lexer": "ipython3",
   "version": "3.6.5"
  }
 },
 "nbformat": 4,
 "nbformat_minor": 2
}
